{
 "cells": [
  {
   "cell_type": "code",
   "execution_count": 1,
   "metadata": {},
   "outputs": [
    {
     "data": {
      "text/plain": [
       "'\\n Compute the following node level measures. \\n Density, Degree, Reciprocity, Transitivity, Centralization, Clustering\\n'"
      ]
     },
     "execution_count": 1,
     "metadata": {},
     "output_type": "execute_result"
    }
   ],
   "source": [
    "\"\"\"\n",
    " Compute the following node level measures. \n",
    " Density, Degree, Reciprocity, Transitivity, Centralization, Clustering\n",
    "\"\"\""
   ]
  },
  {
   "cell_type": "code",
   "execution_count": 3,
   "metadata": {},
   "outputs": [
    {
     "name": "stdout",
     "output_type": "stream",
     "text": [
      "Requirement already satisfied: networkx in c:\\users\\asus\\appdata\\local\\programs\\python\\python312\\lib\\site-packages (3.2.1)\n",
      "Note: you may need to restart the kernel to use updated packages.\n"
     ]
    },
    {
     "name": "stderr",
     "output_type": "stream",
     "text": [
      "\n",
      "[notice] A new release of pip is available: 23.2.1 -> 23.3.1\n",
      "[notice] To update, run: python.exe -m pip install --upgrade pip\n"
     ]
    }
   ],
   "source": [
    "%pip install networkx"
   ]
  },
  {
   "cell_type": "code",
   "execution_count": 4,
   "metadata": {},
   "outputs": [
    {
     "name": "stdout",
     "output_type": "stream",
     "text": [
      "Density ; (density)\n",
      "Degree : {1: 2, 2: 2, 3: 3, 4: 1}\n",
      "Reciprocity : 0.0\n",
      "Transitivity : 0.6\n",
      "Centralization : {1: 0.6666666666666666, 2: 0.6666666666666666, 3: 1.0, 4: 0.3333333333333333}\n",
      "Clustering : {1: 1.0, 2: 1.0, 3: 0.3333333333333333, 4: 0}\n"
     ]
    }
   ],
   "source": [
    "import networkx as nx\n",
    "\n",
    "G = nx.Graph()\n",
    "G.add_edges_from([(1,2),(1,3),(2,3),(3,4)])\n",
    "\n",
    "#Density\n",
    "density = nx.density(G)\n",
    "print(f\"Density ; (density)\")\n",
    "\n",
    "# Degree\n",
    "degree = dict(G.degree())\n",
    "print(f\"Degree : {degree}\")\n",
    "\n",
    "# Reciprocity\n",
    "reciprocity = nx.reciprocity(G)\n",
    "print(f\"Reciprocity : {reciprocity}\")\n",
    "\n",
    "#Transitivity\n",
    "transitivity = nx.transitivity(G)\n",
    "print(f\"Transitivity : {transitivity}\")\n",
    "\n",
    "# Centralization\n",
    "centralization  =nx.degree_centrality(G)\n",
    "print(f\"Centralization : {centralization}\")\n",
    "\n",
    "# Clustering\n",
    "clustering = nx.clustering(G)\n",
    "print(f\"Clustering : {clustering}\")"
   ]
  },
  {
   "cell_type": "code",
   "execution_count": null,
   "metadata": {},
   "outputs": [],
   "source": []
  }
 ],
 "metadata": {
  "kernelspec": {
   "display_name": "Python 3",
   "language": "python",
   "name": "python3"
  },
  "language_info": {
   "codemirror_mode": {
    "name": "ipython",
    "version": 3
   },
   "file_extension": ".py",
   "mimetype": "text/x-python",
   "name": "python",
   "nbconvert_exporter": "python",
   "pygments_lexer": "ipython3",
   "version": "3.12.0"
  }
 },
 "nbformat": 4,
 "nbformat_minor": 2
}
