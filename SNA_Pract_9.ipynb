{
  "nbformat": 4,
  "nbformat_minor": 0,
  "metadata": {
    "colab": {
      "provenance": []
    },
    "kernelspec": {
      "name": "python3",
      "display_name": "Python 3"
    },
    "language_info": {
      "name": "python"
    }
  },
  "cells": [
    {
      "cell_type": "code",
      "execution_count": 1,
      "metadata": {
        "colab": {
          "base_uri": "https://localhost:8080/",
          "height": 35
        },
        "id": "Vfvi_clpG1hY",
        "outputId": "d816b643-b468-4b89-955f-a8869387863a"
      },
      "outputs": [
        {
          "output_type": "execute_result",
          "data": {
            "text/plain": [
              "'\\nSNA Pratical 9 : Identify ties within the network using two_modes core periphery analysis\\n\\n'"
            ],
            "application/vnd.google.colaboratory.intrinsic+json": {
              "type": "string"
            }
          },
          "metadata": {},
          "execution_count": 1
        }
      ],
      "source": [
        "\"\"\"\n",
        "SNA Pratical 9 : Identify ties within the network using two_modes core periphery analysis\n",
        "\n",
        "\"\"\""
      ]
    },
    {
      "cell_type": "code",
      "source": [
        "!pip install networkx"
      ],
      "metadata": {
        "colab": {
          "base_uri": "https://localhost:8080/"
        },
        "id": "N0efKOipG_eZ",
        "outputId": "fa492183-cc7a-42d6-8dba-a77d6a3cfde2"
      },
      "execution_count": 2,
      "outputs": [
        {
          "output_type": "stream",
          "name": "stdout",
          "text": [
            "Requirement already satisfied: networkx in /usr/local/lib/python3.10/dist-packages (3.2.1)\n"
          ]
        }
      ]
    },
    {
      "cell_type": "code",
      "source": [
        "import networkx as nx\n",
        "import numpy as np\n",
        "from networkx.algorithms import bipartite"
      ],
      "metadata": {
        "id": "Ic4yE-evHF5c"
      },
      "execution_count": 4,
      "outputs": []
    },
    {
      "cell_type": "code",
      "source": [
        "def two_mode_core_periphery_analysis(graph):\n",
        "\n",
        "  # Check if the graph is bipartite\n",
        "  if not nx.bipartite.is_bipartite(graph):\n",
        "    raise ValueError(\"Input graph must be bipartite\")\n",
        "\n",
        "  #Project the bipartite graph onto one mode\n",
        "  nodes_projection = bipartite.projected_graph(graph, graph.nodes())\n",
        "\n",
        "  #Convert the projection to an adjacency matrix\n",
        "  adjacency_matrix = nx.to_numpy_array(nodes_projection)\n",
        "\n",
        "  #Caluclation the core-periphery structure using two-mode core-periphery\n",
        "  _, _, Vt = np.linalg.svd(adjacency_matrix)\n",
        "\n",
        "  # Identity the core and peripheral nodes based on Vt values\n",
        "  threshold = np.median(Vt[0])\n",
        "\n",
        "  core_nodes = [node for node, value in zip(nodes_projection.nodes(), Vt[0]) if value > threshold]\n",
        "  peripheral_nodes = [node for node, value in zip(nodes_projection.nodes(), Vt[0]) if value <= threshold]\n",
        "\n",
        "  print(\"Core Nodes:\", core_nodes)\n",
        "  print(\"Peripheral Nodes :\", peripheral_nodes)\n",
        "\n",
        "\n",
        ""
      ],
      "metadata": {
        "id": "Hqiz2ZXNHKZv"
      },
      "execution_count": 5,
      "outputs": []
    },
    {
      "cell_type": "code",
      "source": [
        "if __name__ == \"__main__\":\n",
        "\n",
        "  #Create a bipartite graph\n",
        "  B = nx.Graph()\n",
        "  B.add_nodes_from([1,2,5,6], bipartite=0)  # Nodes mode\n",
        "  B.add_nodes_from([\"A\", \"B\", \"C\", \"D\"], bipartite=1)    # Events mode\n",
        "  B.add_edges_from([(1,\"B\"), (2, \"A\"), (5, \"C\"), (6,\"D\")])\n",
        "\n",
        "  #Perform two_mode core-periphery analysis\n",
        "  two_mode_core_periphery_analysis(B)"
      ],
      "metadata": {
        "colab": {
          "base_uri": "https://localhost:8080/"
        },
        "id": "qkDcwlYmJvuV",
        "outputId": "540ec0f6-293c-42d4-d71e-6e1385870623"
      },
      "execution_count": 7,
      "outputs": [
        {
          "output_type": "stream",
          "name": "stdout",
          "text": [
            "Core Nodes: [1]\n",
            "Peripheral Nodes : [2, 5, 6, 'A', 'B', 'C', 'D']\n"
          ]
        }
      ]
    },
    {
      "cell_type": "code",
      "source": [],
      "metadata": {
        "id": "nOe3JfCCKa99"
      },
      "execution_count": null,
      "outputs": []
    }
  ]
}