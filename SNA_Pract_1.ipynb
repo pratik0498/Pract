{
 "cells": [
  {
   "cell_type": "code",
   "execution_count": 1,
   "metadata": {},
   "outputs": [
    {
     "data": {
      "text/plain": [
       "'\\nSNA practical 1: Write a program to compute the following for a given a network:\\n1) number of edge\\n2) number of nodes\\n3) degree of nodes\\n4)node with lowest degree,\\n5)the adjacency list\\n6)matrix of the graph\\n'"
      ]
     },
     "execution_count": 1,
     "metadata": {},
     "output_type": "execute_result"
    }
   ],
   "source": [
    "\"\"\"\n",
    "SNA practical 1: Write a program to compute the following for a given a network:\n",
    "1) number of edge\n",
    "2) number of nodes\n",
    "3) degree of nodes\n",
    "4)node with lowest degree,\n",
    "5)the adjacency list\n",
    "6)matrix of the graph\n",
    "\"\"\""
   ]
  },
  {
   "cell_type": "code",
   "execution_count": 2,
   "metadata": {},
   "outputs": [
    {
     "name": "stdout",
     "output_type": "stream",
     "text": [
      "Requirement already satisfied: networkx in c:\\users\\asus\\appdata\\local\\programs\\python\\python312\\lib\\site-packages (3.2.1)\n"
     ]
    },
    {
     "name": "stderr",
     "output_type": "stream",
     "text": [
      "\n",
      "[notice] A new release of pip is available: 23.2.1 -> 23.3.1\n",
      "[notice] To update, run: python.exe -m pip install --upgrade pip\n"
     ]
    }
   ],
   "source": [
    "!pip install networkx"
   ]
  },
  {
   "cell_type": "code",
   "execution_count": 3,
   "metadata": {},
   "outputs": [],
   "source": [
    "import networkx as nx\n",
    "import numpy as np"
   ]
  },
  {
   "cell_type": "code",
   "execution_count": 7,
   "metadata": {},
   "outputs": [],
   "source": [
    "def compute_graph_properties(graph):\n",
    "    \n",
    "    #Number of edges\n",
    "    num_edges = graph.number_of_edges()\n",
    "    \n",
    "    #Number of nodes\n",
    "    num_nodes = graph.number_of_nodes()\n",
    "    \n",
    "    #Degree of node\n",
    "    nodes_degree = dict(graph.degree())\n",
    "    \n",
    "    #Node with lowest degree\n",
    "    min_degree_node = min(nodes_degree, key=nodes_degree.get)\n",
    "    \n",
    "    # Adjacency list\n",
    "    adjacency_list = dict(graph.adjacency())\n",
    "    \n",
    "    #Adjacency Matrix\n",
    "    adjacency_matrix = nx.adjacency_matrix(graph).todense()\n",
    "    \n",
    "    return num_edges, num_nodes, nodes_degree, min_degree_node, adjacency_list, adjacency_matrix\n"
   ]
  },
  {
   "cell_type": "code",
   "execution_count": 8,
   "metadata": {},
   "outputs": [
    {
     "name": "stdout",
     "output_type": "stream",
     "text": [
      "Number of edges: 7\n",
      "Number of nodes: 9\n",
      "Degree of nodes: {1: 1, 4: 2, 2: 2, 8: 1, 3: 2, 6: 2, 7: 2, 5: 1, 9: 1}\n",
      "Mode with lowest degree: 1\n",
      "Adjacency List:\n",
      " {1: {4: {}}, 4: {1: {}, 7: {}}, 2: {8: {}, 9: {}}, 8: {2: {}}, 3: {6: {}, 5: {}}, 6: {3: {}, 7: {}}, 7: {4: {}, 6: {}}, 5: {3: {}}, 9: {2: {}}}\n",
      "Adjacency Matrix:\n",
      " [[0 1 0 0 0 0 0 0 0]\n",
      " [1 0 0 0 0 0 1 0 0]\n",
      " [0 0 0 1 0 0 0 0 1]\n",
      " [0 0 1 0 0 0 0 0 0]\n",
      " [0 0 0 0 0 1 0 1 0]\n",
      " [0 0 0 0 1 0 1 0 0]\n",
      " [0 1 0 0 0 1 0 0 0]\n",
      " [0 0 0 0 1 0 0 0 0]\n",
      " [0 0 1 0 0 0 0 0 0]]\n"
     ]
    }
   ],
   "source": [
    "#Exmaple\n",
    "\n",
    "G = nx.Graph()\n",
    "G.add_edges_from([(1,4), (2,8), (3,6), (4,7), (5,3), (2,9), (7,6)])\n",
    "\n",
    "#compute the graph properties\n",
    "edges, nodes, degrees, min_degree_node, adj_list, adj_matrix = compute_graph_properties(G)\n",
    "\n",
    "print(\"Number of edges:\",edges)\n",
    "print(\"Number of nodes:\",nodes)\n",
    "print(\"Degree of nodes:\",degrees)\n",
    "print(\"Mode with lowest degree:\",min_degree_node)\n",
    "print(\"Adjacency List:\\n\",adj_list)\n",
    "print(\"Adjacency Matrix:\\n\",adj_matrix)"
   ]
  },
  {
   "cell_type": "code",
   "execution_count": null,
   "metadata": {},
   "outputs": [],
   "source": []
  }
 ],
 "metadata": {
  "kernelspec": {
   "display_name": "Python 3",
   "language": "python",
   "name": "python3"
  },
  "language_info": {
   "codemirror_mode": {
    "name": "ipython",
    "version": 3
   },
   "file_extension": ".py",
   "mimetype": "text/x-python",
   "name": "python",
   "nbconvert_exporter": "python",
   "pygments_lexer": "ipython3",
   "version": "3.12.0"
  }
 },
 "nbformat": 4,
 "nbformat_minor": 2
}
