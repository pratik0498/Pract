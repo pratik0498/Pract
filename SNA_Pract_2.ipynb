{
 "cells": [
  {
   "cell_type": "code",
   "execution_count": 1,
   "metadata": {},
   "outputs": [
    {
     "data": {
      "text/plain": [
       "'\\nSNA Practical 2 :Perform following tasks:\\n1)View data collection forms and/or import one mode/two-mode dataset;\\n2)Basic Networks matrices transformations\\n\\n'"
      ]
     },
     "execution_count": 1,
     "metadata": {},
     "output_type": "execute_result"
    }
   ],
   "source": [
    "\"\"\"\n",
    "SNA Practical 2 :Perform following tasks:\n",
    "1)View data collection forms and/or import one mode/two-mode dataset;\n",
    "2)Basic Networks matrices transformations\n",
    "\n",
    "\"\"\""
   ]
  },
  {
   "cell_type": "code",
   "execution_count": 2,
   "metadata": {},
   "outputs": [
    {
     "name": "stdout",
     "output_type": "stream",
     "text": [
      "Requirement already satisfied: networkx in c:\\users\\asus\\appdata\\local\\programs\\python\\python312\\lib\\site-packages (3.2.1)\n",
      "Note: you may need to restart the kernel to use updated packages.\n"
     ]
    },
    {
     "name": "stderr",
     "output_type": "stream",
     "text": [
      "\n",
      "[notice] A new release of pip is available: 23.2.1 -> 23.3.1\n",
      "[notice] To update, run: python.exe -m pip install --upgrade pip\n"
     ]
    }
   ],
   "source": [
    "%pip install networkx"
   ]
  },
  {
   "cell_type": "code",
   "execution_count": 3,
   "metadata": {},
   "outputs": [],
   "source": [
    "import networkx as nx\n",
    "import pandas as pd"
   ]
  },
  {
   "cell_type": "code",
   "execution_count": 4,
   "metadata": {},
   "outputs": [
    {
     "name": "stdout",
     "output_type": "stream",
     "text": [
      "Data Collection Form :\n",
      "    Node1  Node2  Weight\n",
      "0      1      2     1.0\n",
      "1      3      4     2.0\n",
      "2      4      7     2.6\n",
      "3      5      6     5.0\n",
      "4      6      3     3.3\n",
      "\n",
      " One Mode Dataset:\n",
      "    Node Attribute1  Attribute2\n",
      "0     2          A         0.5\n",
      "1     3          B         1.2\n",
      "2     4          D         2.6\n",
      "3     8          E         8.6\n",
      "4     4          F         4.3\n",
      "5     9          I         5.2\n",
      "\n",
      " Two Mode Dataset:\n",
      "    Node1 Node2  Weight\n",
      "0      2     A     1.8\n",
      "1      4     C     2.9\n",
      "2      8     D     8.6\n",
      "3      6     J     4.4\n",
      "4      7     K     9.0\n"
     ]
    }
   ],
   "source": [
    "data_collection_form = pd.DataFrame({\n",
    "    'Node1' : [1,3,4,5,6,],\n",
    "    'Node2' : [2,4,7,6,3],\n",
    "    'Weight' : [1,2,2.6,5.0,3.3]\n",
    "})\n",
    "\n",
    "print(\"Data Collection Form :\\n\", data_collection_form)\n",
    "\n",
    "one_mode_data = pd.DataFrame({\n",
    "    'Node' : [2,3,4,8,4,9],\n",
    "    'Attribute1' : ['A' , 'B' , 'D' , 'E' , 'F' , 'I'],\n",
    "    'Attribute2' : [0.5, 1.2, 2.6, 8.6, 4.3, 5.2]\n",
    "})\n",
    "\n",
    "print(\"\\n One Mode Dataset:\\n\", one_mode_data)\n",
    "\n",
    "two_mode_data = pd.DataFrame({\n",
    "    'Node1' : [2,4,8,6,7],\n",
    "    'Node2' : ['A','C','D','J','K'],\n",
    "    'Weight' : [1.8,2.9,8.6,4.4,9.0]\n",
    "})\n",
    "\n",
    "print(\"\\n Two Mode Dataset:\\n\",two_mode_data)"
   ]
  },
  {
   "cell_type": "code",
   "execution_count": 5,
   "metadata": {},
   "outputs": [
    {
     "name": "stdout",
     "output_type": "stream",
     "text": [
      "\n",
      " Adjacency Matrix 1 : \n",
      " [[0. 1. 0. 0. 0. 0. 0.]\n",
      " [1. 0. 0. 0. 0. 0. 0.]\n",
      " [0. 0. 0. 1. 0. 0. 1.]\n",
      " [0. 0. 1. 0. 1. 0. 0.]\n",
      " [0. 0. 0. 1. 0. 0. 0.]\n",
      " [0. 0. 0. 0. 0. 0. 1.]\n",
      " [0. 0. 1. 0. 0. 1. 0.]]\n"
     ]
    }
   ],
   "source": [
    "G_one_mode = nx.from_pandas_edgelist(data_collection_form, 'Node1', 'Node2', 'Weight')\n",
    "\n",
    "B_two_mode = nx.from_pandas_edgelist(two_mode_data, 'Node1' , 'Node2' , ['Weight'], create_using=nx.Graph)\n",
    "\n",
    "adjacency_matrix = nx.to_numpy_array(G_one_mode)\n",
    "print(\"\\n Adjacency Matrix 1 : \\n\",adjacency_matrix)\n"
   ]
  },
  {
   "cell_type": "code",
   "execution_count": null,
   "metadata": {},
   "outputs": [],
   "source": []
  }
 ],
 "metadata": {
  "kernelspec": {
   "display_name": "Python 3",
   "language": "python",
   "name": "python3"
  },
  "language_info": {
   "codemirror_mode": {
    "name": "ipython",
    "version": 3
   },
   "file_extension": ".py",
   "mimetype": "text/x-python",
   "name": "python",
   "nbconvert_exporter": "python",
   "pygments_lexer": "ipython3",
   "version": "3.12.0"
  }
 },
 "nbformat": 4,
 "nbformat_minor": 2
}
