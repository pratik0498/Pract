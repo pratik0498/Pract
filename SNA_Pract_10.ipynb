{
 "cells": [
  {
   "cell_type": "code",
   "execution_count": 1,
   "metadata": {},
   "outputs": [
    {
     "data": {
      "text/plain": [
       "'\\nSNA Pratcial 10 : Find “factions” in the network using two-mode faction analysis\\n'"
      ]
     },
     "execution_count": 1,
     "metadata": {},
     "output_type": "execute_result"
    }
   ],
   "source": [
    "\"\"\"\n",
    "SNA Pratcial 10 : Find “factions” in the network using two-mode faction analysis\n",
    "\"\"\""
   ]
  },
  {
   "cell_type": "code",
   "execution_count": 2,
   "metadata": {},
   "outputs": [
    {
     "name": "stdout",
     "output_type": "stream",
     "text": [
      "Requirement already satisfied: networkx in c:\\users\\asus\\appdata\\local\\programs\\python\\python312\\lib\\site-packages (3.2.1)Note: you may need to restart the kernel to use updated packages.\n",
      "\n"
     ]
    },
    {
     "name": "stderr",
     "output_type": "stream",
     "text": [
      "\n",
      "[notice] A new release of pip is available: 23.2.1 -> 23.3.1\n",
      "[notice] To update, run: python.exe -m pip install --upgrade pip\n"
     ]
    }
   ],
   "source": [
    "pip install networkx"
   ]
  },
  {
   "cell_type": "code",
   "execution_count": 3,
   "metadata": {},
   "outputs": [],
   "source": [
    "import networkx as nx\n",
    "\n"
   ]
  },
  {
   "cell_type": "code",
   "execution_count": 9,
   "metadata": {},
   "outputs": [],
   "source": [
    "def two_mode_faction_analysis(graph):\n",
    "    \n",
    "    individuals = {node for node, data in graph.nodes(data=True) if data.get('type') == 'individual'}\n",
    "    events = {node for node, data in graph.nodes(data=True) if data.get('type') == 'event'}\n",
    "    \n",
    "    # Create a bipartite graph from the original graph\n",
    "    bipartite_garph = nx.Graph()\n",
    "    bipartite_garph.add_nodes_from(individuals, bipartite=0)\n",
    "    bipartite_garph.add_nodes_from(events, bipartite=1)\n",
    "    bipartite_garph.add_edges_from(graph.edges())\n",
    "    \n",
    "    individual_graph = nx.bipartite.projection.projected_graph(bipartite_garph, individuals)\n",
    "    \n",
    "    factions = list(nx.connected_components(individual_graph))\n",
    "    return factions"
   ]
  },
  {
   "cell_type": "code",
   "execution_count": 10,
   "metadata": {},
   "outputs": [
    {
     "name": "stdout",
     "output_type": "stream",
     "text": [
      "Factions: [{'Alice', 'Bob'}]\n"
     ]
    }
   ],
   "source": [
    "G = nx.Graph()\n",
    "G.add_node('Alice', type='individual')\n",
    "G.add_node('Bob', type='individual')\n",
    "G.add_node('party', type='event')\n",
    "G.add_edge('Alice', 'party')\n",
    "G.add_edge('Bob', 'party')\n",
    "\n",
    "result = two_mode_faction_analysis(G)\n",
    "print(\"Factions:\",result)\n"
   ]
  },
  {
   "cell_type": "code",
   "execution_count": null,
   "metadata": {},
   "outputs": [],
   "source": []
  }
 ],
 "metadata": {
  "kernelspec": {
   "display_name": "Python 3",
   "language": "python",
   "name": "python3"
  },
  "language_info": {
   "codemirror_mode": {
    "name": "ipython",
    "version": 3
   },
   "file_extension": ".py",
   "mimetype": "text/x-python",
   "name": "python",
   "nbconvert_exporter": "python",
   "pygments_lexer": "ipython3",
   "version": "3.12.0"
  }
 },
 "nbformat": 4,
 "nbformat_minor": 2
}
