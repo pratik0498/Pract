{
 "cells": [
  {
   "cell_type": "code",
   "execution_count": 1,
   "metadata": {},
   "outputs": [
    {
     "name": "stdout",
     "output_type": "stream",
     "text": [
      "Requirement already satisfied: networkx in c:\\users\\asus\\appdata\\local\\programs\\python\\python312\\lib\\site-packages (3.2.1)\n",
      "Note: you may need to restart the kernel to use updated packages.\n"
     ]
    },
    {
     "name": "stderr",
     "output_type": "stream",
     "text": [
      "\n",
      "[notice] A new release of pip is available: 23.2.1 -> 23.3.1\n",
      "[notice] To update, run: python.exe -m pip install --upgrade pip\n"
     ]
    }
   ],
   "source": [
    "%pip install networkx"
   ]
  },
  {
   "cell_type": "code",
   "execution_count": 2,
   "metadata": {},
   "outputs": [],
   "source": [
    "import networkx as nx\n",
    "import matplotlib.pyplot as plt"
   ]
  },
  {
   "cell_type": "code",
   "execution_count": 3,
   "metadata": {},
   "outputs": [
    {
     "name": "stdout",
     "output_type": "stream",
     "text": [
      "Shortest Path Length from Node 1 to Node 4 : 2\n"
     ]
    }
   ],
   "source": [
    "G = nx.Graph()\n",
    "G.add_edges_from([(1,2), (1,3), (2,4), (4,5)])\n",
    "\n",
    "shortest_path_length = nx.shortest_path_length(G, source=1, target=4)\n",
    "print(f\"Shortest Path Length from Node 1 to Node 4 : {shortest_path_length}\")"
   ]
  },
  {
   "cell_type": "code",
   "execution_count": 4,
   "metadata": {},
   "outputs": [
    {
     "name": "stdout",
     "output_type": "stream",
     "text": [
      "Density of the Graph : 0.4\n"
     ]
    }
   ],
   "source": [
    "# Density of the graph\n",
    "density = nx.density(G)\n",
    "print(f\"Density of the Graph : {density}\")"
   ]
  },
  {
   "cell_type": "code",
   "execution_count": 5,
   "metadata": {},
   "outputs": [
    {
     "data": {
      "image/png": "[encoded data removed]",
      "text/plain": [
       "<Figure size 640x480 with 1 Axes>"
      ]
     },
     "metadata": {},
     "output_type": "display_data"
    }
   ],
   "source": [
    "# Draw Egocentric Network of node 8 with chosen configuration parameters\n",
    "ego_node = 4\n",
    "egocentric_network = nx.ego_graph(G, ego_node, radius=1)\n",
    "pos = nx.spring_layout(egocentric_network)\n",
    "\n",
    "# Draw the egocentric network\n",
    "nx.draw(egocentric_network, pos, with_labels=True, node_color='red', node_size=800, font_size=10, font_color='black')\n",
    "plt.title(f\"Egocentirc Network of Node {ego_node}\")\n",
    "plt.show()\n"
   ]
  },
  {
   "cell_type": "code",
   "execution_count": null,
   "metadata": {},
   "outputs": [],
   "source": []
  }
 ],
 "metadata": {
  "kernelspec": {
   "display_name": "Python 3",
   "language": "python",
   "name": "python3"
  },
  "language_info": {
   "codemirror_mode": {
    "name": "ipython",
    "version": 3
   },
   "file_extension": ".py",
   "mimetype": "text/x-python",
   "name": "python",
   "nbconvert_exporter": "python",
   "pygments_lexer": "ipython3",
   "version": "3.12.0"
  }
 },
 "nbformat": 4,
 "nbformat_minor": 2
}
