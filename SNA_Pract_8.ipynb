{
 "cells": [
  {
   "cell_type": "code",
   "execution_count": 1,
   "metadata": {},
   "outputs": [
    {
     "data": {
      "text/plain": [
       "'\\nSNA Pratical 8 : Perform SVD analysis of a network\\n'"
      ]
     },
     "execution_count": 1,
     "metadata": {},
     "output_type": "execute_result"
    }
   ],
   "source": [
    "\"\"\"\n",
    "SNA Pratical 8 : Perform SVD analysis of a network\n",
    "\"\"\""
   ]
  },
  {
   "cell_type": "code",
   "execution_count": 2,
   "metadata": {},
   "outputs": [
    {
     "name": "stdout",
     "output_type": "stream",
     "text": [
      "Requirement already satisfied: networkx in c:\\users\\asus\\appdata\\local\\programs\\python\\python312\\lib\\site-packages (3.2.1)\n",
      "Note: you may need to restart the kernel to use updated packages.\n"
     ]
    },
    {
     "name": "stderr",
     "output_type": "stream",
     "text": [
      "\n",
      "[notice] A new release of pip is available: 23.2.1 -> 23.3.1\n",
      "[notice] To update, run: python.exe -m pip install --upgrade pip\n"
     ]
    }
   ],
   "source": [
    "pip install networkx"
   ]
  },
  {
   "cell_type": "code",
   "execution_count": 3,
   "metadata": {},
   "outputs": [],
   "source": [
    "import networkx as nx\n",
    "import numpy as np\n",
    "from scipy.linalg import svd"
   ]
  },
  {
   "cell_type": "code",
   "execution_count": 4,
   "metadata": {},
   "outputs": [
    {
     "name": "stdout",
     "output_type": "stream",
     "text": [
      "U matrix:\n",
      "[[ 1.11022302e-16  7.07106781e-01  7.07106781e-01  0.00000000e+00]\n",
      " [-7.07106781e-01  1.66533454e-16  0.00000000e+00 -7.07106781e-01]\n",
      " [ 0.00000000e+00  7.07106781e-01 -7.07106781e-01  1.11022302e-16]\n",
      " [-7.07106781e-01 -5.55111512e-17 -5.55111512e-17  7.07106781e-01]]\n",
      "\n",
      " Singular matrix:\n",
      "[2.00000000e+00 2.00000000e+00 2.22044605e-16 0.00000000e+00]\n",
      "\n",
      " Transpose matrix:\n",
      "[[-7.07106781e-01  0.00000000e+00 -7.07106781e-01 -0.00000000e+00]\n",
      " [ 5.55111512e-17  7.07106781e-01 -1.11022302e-16  7.07106781e-01]\n",
      " [ 5.00000000e-01  5.00000000e-01 -5.00000000e-01 -5.00000000e-01]\n",
      " [ 5.00000000e-01 -5.00000000e-01 -5.00000000e-01  5.00000000e-01]]\n"
     ]
    }
   ],
   "source": [
    "def svd_analysis(graph):\n",
    "    adjacency_matrix = nx.to_numpy_array(graph)\n",
    "    U, S, Vt = svd(adjacency_matrix)\n",
    "    \n",
    "    print(\"U matrix:\")\n",
    "    print(U)\n",
    "    print(\"\\n Singular matrix:\")\n",
    "    print(S)\n",
    "    print(\"\\n Transpose matrix:\")\n",
    "    print(Vt)\n",
    "    \n",
    "if __name__ == \"__main__\":\n",
    "    G = nx.Graph()\n",
    "    G.add_edges_from([(1,2), (2,3), (3,4), (4,1)])\n",
    "    svd_analysis(G)"
   ]
  },
  {
   "cell_type": "code",
   "execution_count": null,
   "metadata": {},
   "outputs": [],
   "source": []
  }
 ],
 "metadata": {
  "kernelspec": {
   "display_name": "Python 3",
   "language": "python",
   "name": "python3"
  },
  "language_info": {
   "codemirror_mode": {
    "name": "ipython",
    "version": 3
   },
   "file_extension": ".py",
   "mimetype": "text/x-python",
   "name": "python",
   "nbconvert_exporter": "python",
   "pygments_lexer": "ipython3",
   "version": "3.12.0"
  }
 },
 "nbformat": 4,
 "nbformat_minor": 2
}
